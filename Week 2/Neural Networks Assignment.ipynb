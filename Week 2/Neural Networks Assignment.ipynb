{
 "cells": [
  {
   "cell_type": "code",
   "execution_count": 1,
   "id": "027856f2-cd3a-4057-8538-7ce65c311d29",
   "metadata": {},
   "outputs": [],
   "source": [
    "import tensorflow as tf\n",
    "import numpy as np"
   ]
  },
  {
   "cell_type": "code",
   "execution_count": 54,
   "id": "3e797b2a-8623-447d-b703-b3a988ac8b29",
   "metadata": {},
   "outputs": [
    {
     "name": "stdout",
     "output_type": "stream",
     "text": [
      "Found 269 files belonging to 2 classes.\n"
     ]
    }
   ],
   "source": [
    "img = tf.keras.preprocessing.image_dataset_from_directory('C:\\\\Users\\\\HP\\\\Downloads\\\\homer_bart',image_size=(64,64),label_mode='binary',\n",
    "                                                          seed=123, batch_size=269,shuffle=True  )"
   ]
  },
  {
   "cell_type": "code",
   "execution_count": 55,
   "id": "40bd8fe2-d19b-4a03-aed5-1815e180247e",
   "metadata": {},
   "outputs": [
    {
     "name": "stdout",
     "output_type": "stream",
     "text": [
      "(269, 1)\n"
     ]
    }
   ],
   "source": [
    "\n",
    "\n",
    "for images, labels in img:\n",
    "    x =images.numpy()\n",
    "    y =labels.numpy()\n",
    "x = x.reshape(-1, 64*64*3)/ 255.0\n",
    "print(y.shape)"
   ]
  },
  {
   "cell_type": "code",
   "execution_count": 92,
   "id": "706af5d6-60af-4c0a-977b-0da92f0c8777",
   "metadata": {},
   "outputs": [
    {
     "name": "stdout",
     "output_type": "stream",
     "text": [
      "(242, 1)\n",
      "(242, 12288)\n"
     ]
    }
   ],
   "source": [
    "from sklearn.model_selection import train_test_split\n",
    "x_train, x_test, y_train, y_test = train_test_split(x, y, test_size=0.1, random_state=123)\n",
    "print(y_train.shape)\n",
    "print(x_train.shape)"
   ]
  },
  {
   "cell_type": "code",
   "execution_count": 98,
   "id": "70772632-5e07-478a-98e2-fe74bf64f185",
   "metadata": {},
   "outputs": [
    {
     "name": "stdout",
     "output_type": "stream",
     "text": [
      "Epoch 1/20\n",
      "8/8 - 2s - 241ms/step - accuracy: 0.4959 - loss: 0.8994\n",
      "Epoch 2/20\n",
      "8/8 - 1s - 83ms/step - accuracy: 0.6198 - loss: 0.6681\n",
      "Epoch 3/20\n",
      "8/8 - 1s - 83ms/step - accuracy: 0.7231 - loss: 0.5662\n",
      "Epoch 4/20\n",
      "8/8 - 1s - 82ms/step - accuracy: 0.7686 - loss: 0.5219\n",
      "Epoch 5/20\n",
      "8/8 - 1s - 81ms/step - accuracy: 0.8058 - loss: 0.4599\n",
      "Epoch 6/20\n",
      "8/8 - 1s - 85ms/step - accuracy: 0.8099 - loss: 0.4258\n",
      "Epoch 7/20\n",
      "8/8 - 1s - 82ms/step - accuracy: 0.8182 - loss: 0.4041\n",
      "Epoch 8/20\n",
      "8/8 - 1s - 83ms/step - accuracy: 0.8140 - loss: 0.4179\n",
      "Epoch 9/20\n",
      "8/8 - 1s - 85ms/step - accuracy: 0.7851 - loss: 0.4399\n",
      "Epoch 10/20\n",
      "8/8 - 1s - 88ms/step - accuracy: 0.8388 - loss: 0.3498\n",
      "Epoch 11/20\n",
      "8/8 - 1s - 86ms/step - accuracy: 0.8554 - loss: 0.3252\n",
      "Epoch 12/20\n",
      "8/8 - 1s - 83ms/step - accuracy: 0.8595 - loss: 0.3027\n",
      "Epoch 13/20\n",
      "8/8 - 1s - 84ms/step - accuracy: 0.8843 - loss: 0.2883\n",
      "Epoch 14/20\n",
      "8/8 - 1s - 81ms/step - accuracy: 0.8058 - loss: 0.3738\n",
      "Epoch 15/20\n",
      "8/8 - 1s - 83ms/step - accuracy: 0.8512 - loss: 0.3202\n",
      "Epoch 16/20\n",
      "8/8 - 1s - 84ms/step - accuracy: 0.8760 - loss: 0.2719\n",
      "Epoch 17/20\n",
      "8/8 - 1s - 87ms/step - accuracy: 0.9008 - loss: 0.2481\n",
      "Epoch 18/20\n",
      "8/8 - 1s - 87ms/step - accuracy: 0.9008 - loss: 0.2607\n",
      "Epoch 19/20\n",
      "8/8 - 1s - 83ms/step - accuracy: 0.9339 - loss: 0.2165\n",
      "Epoch 20/20\n",
      "8/8 - 1s - 82ms/step - accuracy: 0.9339 - loss: 0.1958\n",
      "\u001b[1m1/1\u001b[0m \u001b[32m━━━━━━━━━━━━━━━━━━━━\u001b[0m\u001b[37m\u001b[0m \u001b[1m0s\u001b[0m 110ms/step - accuracy: 0.8519 - loss: 0.4000\n"
     ]
    },
    {
     "data": {
      "text/plain": [
       "[0.39996612071990967, 0.8518518805503845]"
      ]
     },
     "execution_count": 98,
     "metadata": {},
     "output_type": "execute_result"
    }
   ],
   "source": [
    "from tensorflow.keras.models import Sequential\n",
    "from tensorflow.keras.layers import Dense, Activation\n",
    "from tensorflow.keras.optimizers import Adam\n",
    "# from tensorflow.keras.losses import SparseCategoricalEntropy\n",
    "model = Sequential([\n",
    "    Dense(512, activation='relu'),\n",
    "    Dense(256, activation='relu'),\n",
    "    Dense(128, activation='relu'),\n",
    "    Dense(1, activation='sigmoid')\n",
    "])\n",
    "model.compile(optimizer=Adam(learning_rate=0.0001), loss='binary_crossentropy', metrics=['accuracy'])\n",
    "model.fit(x_train, y_train, batch_size=32, epochs=20, verbose=2)\n",
    "model.evaluate(x_test,y_test)"
   ]
  },
  {
   "cell_type": "code",
   "execution_count": null,
   "id": "337df7e8-2beb-4194-9493-4edbdbc6787b",
   "metadata": {},
   "outputs": [],
   "source": []
  },
  {
   "cell_type": "code",
   "execution_count": null,
   "id": "ced9c8ae-f124-42ce-8f3c-f14ca35c3aa3",
   "metadata": {},
   "outputs": [],
   "source": []
  },
  {
   "cell_type": "code",
   "execution_count": null,
   "id": "b6507061-db79-4662-b24c-7f841b4f6df9",
   "metadata": {},
   "outputs": [],
   "source": []
  },
  {
   "cell_type": "code",
   "execution_count": null,
   "id": "ef97f241-d60b-4514-95a8-5b8a4e12fb7f",
   "metadata": {},
   "outputs": [],
   "source": []
  }
 ],
 "metadata": {
  "kernelspec": {
   "display_name": "Python 3 (ipykernel)",
   "language": "python",
   "name": "python3"
  },
  "language_info": {
   "codemirror_mode": {
    "name": "ipython",
    "version": 3
   },
   "file_extension": ".py",
   "mimetype": "text/x-python",
   "name": "python",
   "nbconvert_exporter": "python",
   "pygments_lexer": "ipython3",
   "version": "3.12.3"
  }
 },
 "nbformat": 4,
 "nbformat_minor": 5
}
